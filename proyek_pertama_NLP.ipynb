{
  "nbformat": 4,
  "nbformat_minor": 0,
  "metadata": {
    "accelerator": "GPU",
    "colab": {
      "name": "dicoding_proyek pertama_NLP.ipynb",
      "provenance": []
    },
    "kernelspec": {
      "display_name": "Python 3",
      "name": "python3"
    },
    "language_info": {
      "name": "python"
    }
  },
  "cells": [
    {
      "cell_type": "markdown",
      "metadata": {
        "id": "w0wwQJseb8Xf"
      },
      "source": [
        "# Sentimen Analisis\n",
        "\n",
        "Muhammad Ghifari Zuhir"
      ]
    },
    {
      "cell_type": "code",
      "metadata": {
        "colab": {
          "base_uri": "https://localhost:8080/"
        },
        "id": "aiIYWPXjTBvO",
        "outputId": "98929eed-004c-4281-acc6-cd5c5e0c7c85"
      },
      "source": [
        "from google.colab import drive\n",
        "drive.mount('/content/drive')"
      ],
      "execution_count": null,
      "outputs": [
        {
          "output_type": "stream",
          "text": [
            "Drive already mounted at /content/drive; to attempt to forcibly remount, call drive.mount(\"/content/drive\", force_remount=True).\n"
          ],
          "name": "stdout"
        }
      ]
    },
    {
      "cell_type": "code",
      "metadata": {
        "id": "qe33SWwEZpWU",
        "colab": {
          "base_uri": "https://localhost:8080/"
        },
        "outputId": "7a14f401-4fe4-4e99-885c-e70489033d30"
      },
      "source": [
        "import pandas as pd\n",
        "\n",
        "from sklearn.model_selection import train_test_split\n",
        "\n",
        "import nltk\n",
        "from nltk.corpus import stopwords\n",
        "nltk.download('stopwords')\n",
        "\n",
        "import tensorflow as tf\n",
        "from tensorflow.keras.callbacks import EarlyStopping\n",
        "from tensorflow.keras.preprocessing.text import Tokenizer\n",
        "from tensorflow.keras.preprocessing.sequence import pad_sequences\n",
        "\n",
        "stop = stopwords.words('english')\n",
        "pd.set_option('display.max_colwidth', None)"
      ],
      "execution_count": null,
      "outputs": [
        {
          "output_type": "stream",
          "text": [
            "[nltk_data] Downloading package stopwords to /root/nltk_data...\n",
            "[nltk_data]   Unzipping corpora/stopwords.zip.\n"
          ],
          "name": "stdout"
        }
      ]
    },
    {
      "cell_type": "code",
      "metadata": {
        "id": "DZcjBxfSaDQs"
      },
      "source": [
        "df = pd.read_json('/content/drive/MyDrive/Dicoding/NLP/Clothing_Shoes_and_Jewelry_5.json', lines=True)"
      ],
      "execution_count": null,
      "outputs": []
    },
    {
      "cell_type": "code",
      "metadata": {
        "colab": {
          "base_uri": "https://localhost:8080/",
          "height": 1000
        },
        "id": "DBdHenGqk-Pf",
        "outputId": "40c9f1d9-e5dc-4148-fd0a-983466d6f0fb"
      },
      "source": [
        "df"
      ],
      "execution_count": null,
      "outputs": [
        {
          "output_type": "execute_result",
          "data": {
            "text/html": [
              "<div>\n",
              "<style scoped>\n",
              "    .dataframe tbody tr th:only-of-type {\n",
              "        vertical-align: middle;\n",
              "    }\n",
              "\n",
              "    .dataframe tbody tr th {\n",
              "        vertical-align: top;\n",
              "    }\n",
              "\n",
              "    .dataframe thead th {\n",
              "        text-align: right;\n",
              "    }\n",
              "</style>\n",
              "<table border=\"1\" class=\"dataframe\">\n",
              "  <thead>\n",
              "    <tr style=\"text-align: right;\">\n",
              "      <th></th>\n",
              "      <th>reviewerID</th>\n",
              "      <th>asin</th>\n",
              "      <th>reviewerName</th>\n",
              "      <th>helpful</th>\n",
              "      <th>reviewText</th>\n",
              "      <th>overall</th>\n",
              "      <th>summary</th>\n",
              "      <th>unixReviewTime</th>\n",
              "      <th>reviewTime</th>\n",
              "    </tr>\n",
              "  </thead>\n",
              "  <tbody>\n",
              "    <tr>\n",
              "      <th>0</th>\n",
              "      <td>A1KLRMWW2FWPL4</td>\n",
              "      <td>0000031887</td>\n",
              "      <td>Amazon Customer \"cameramom\"</td>\n",
              "      <td>[0, 0]</td>\n",
              "      <td>This is a great tutu and at a really great price. It doesn't look cheap at all. I'm so glad I looked on Amazon and found such an affordable tutu that isn't made poorly. A++</td>\n",
              "      <td>5</td>\n",
              "      <td>Great tutu-  not cheaply made</td>\n",
              "      <td>1297468800</td>\n",
              "      <td>02 12, 2011</td>\n",
              "    </tr>\n",
              "    <tr>\n",
              "      <th>1</th>\n",
              "      <td>A2G5TCU2WDFZ65</td>\n",
              "      <td>0000031887</td>\n",
              "      <td>Amazon Customer</td>\n",
              "      <td>[0, 0]</td>\n",
              "      <td>I bought this for my 4 yr old daughter for dance class, she wore it today for the first time and the teacher thought it was adorable. I bought this to go with a light blue long sleeve leotard and was happy the colors matched up great. Price was very good too since some of these go for over $15.00 dollars.</td>\n",
              "      <td>5</td>\n",
              "      <td>Very Cute!!</td>\n",
              "      <td>1358553600</td>\n",
              "      <td>01 19, 2013</td>\n",
              "    </tr>\n",
              "    <tr>\n",
              "      <th>2</th>\n",
              "      <td>A1RLQXYNCMWRWN</td>\n",
              "      <td>0000031887</td>\n",
              "      <td>Carola</td>\n",
              "      <td>[0, 0]</td>\n",
              "      <td>What can I say... my daughters have it in orange, black, white and pink and I am thinking to buy for they the fuccia one. It is a very good way for exalt a dancer outfit: great colors, comfortable, looks great, easy to wear, durables and little girls love it. I think it is a great buy for costumer and play too.</td>\n",
              "      <td>5</td>\n",
              "      <td>I have buy more than one</td>\n",
              "      <td>1357257600</td>\n",
              "      <td>01 4, 2013</td>\n",
              "    </tr>\n",
              "    <tr>\n",
              "      <th>3</th>\n",
              "      <td>A8U3FAMSJVHS5</td>\n",
              "      <td>0000031887</td>\n",
              "      <td>Caromcg</td>\n",
              "      <td>[0, 0]</td>\n",
              "      <td>We bought several tutus at once, and they are got high reviews. Sturdy and seemingly well-made. The girls have been wearing them regularly, including out to play, and the tutus have stood up well. Fits the 3-yr old &amp; the 5-yr old well. Clearly plenty of room to grow. Only con is that when the kids pull off the tutus, the waste band gets twisted, and an adult has to un-tangle. But this is not difficult.</td>\n",
              "      <td>5</td>\n",
              "      <td>Adorable, Sturdy</td>\n",
              "      <td>1398556800</td>\n",
              "      <td>04 27, 2014</td>\n",
              "    </tr>\n",
              "    <tr>\n",
              "      <th>4</th>\n",
              "      <td>A3GEOILWLK86XM</td>\n",
              "      <td>0000031887</td>\n",
              "      <td>CJ</td>\n",
              "      <td>[0, 0]</td>\n",
              "      <td>Thank you Halo Heaven great product for Little Girls.  My Great Grand Daughters Love these Tutu's.  Will buy more from this seller.  Made well and cute on the girls.  Thanks for a great product.NEVER BUY FROM DRESS UP DREAMS........I will buy more as long as I don't buy from &amp;#34;Dress Up Dreams&amp;#34;  I never rec'd or order in FL. Only rec'd pink, the purple one was missing.  Company is a rip off.  REFUSES to make good on purchase...... Real creeps.</td>\n",
              "      <td>5</td>\n",
              "      <td>Grammy's Angels Love it</td>\n",
              "      <td>1394841600</td>\n",
              "      <td>03 15, 2014</td>\n",
              "    </tr>\n",
              "    <tr>\n",
              "      <th>...</th>\n",
              "      <td>...</td>\n",
              "      <td>...</td>\n",
              "      <td>...</td>\n",
              "      <td>...</td>\n",
              "      <td>...</td>\n",
              "      <td>...</td>\n",
              "      <td>...</td>\n",
              "      <td>...</td>\n",
              "      <td>...</td>\n",
              "    </tr>\n",
              "    <tr>\n",
              "      <th>278672</th>\n",
              "      <td>A2DG63DN704LOI</td>\n",
              "      <td>B00KKXCJQU</td>\n",
              "      <td>ESlayd</td>\n",
              "      <td>[0, 1]</td>\n",
              "      <td>I don't normally go ga-ga over a product very often, but these cubes are so awesome I couldn't help myself. Here's my review:I'm a pretty organized guy. At home, I keep my things where they belong, and there's a place for everything.I am also a frequent traveler.And when I travel, something goes wrong. My neatness turns into something else. It all starts innocently enough. I pack everything perfectly. Underwear here, shorts in a stack, tshirts on the left, dress shirts and slacks on the right, toiletries on the top. Then, once I get to the hotel and change clothes, the whole case is in shambles. And it only gets worse. If I'm on a week-long trip, I'm doomed by day 3.Now, enter the Shacke Packing Cubes! What a brilliant idea, and yet such a simple one. Pack packs in your pack! These little wonders have allowed me to compartmentalize my suitcase in a way that the little zippered pockets around the sides never did. I just put each category of clothes (i.e. shorts, underwear, etc.) it its own \"cube\". Then, when I need a pair of boxers, I just go straight to the source and pull one out. No hunting, no pecking. And no suitcase that already looks like a laundry basket at the start of the trip.In conclusion, these are so good, I've got to order myself a second set.[sample provided for an honest review]</td>\n",
              "      <td>5</td>\n",
              "      <td>These have literally changed the way I travel!</td>\n",
              "      <td>1403568000</td>\n",
              "      <td>06 24, 2014</td>\n",
              "    </tr>\n",
              "    <tr>\n",
              "      <th>278673</th>\n",
              "      <td>A1EVV74UQYVKRY</td>\n",
              "      <td>B00KKXCJQU</td>\n",
              "      <td>K. Groh</td>\n",
              "      <td>[0, 0]</td>\n",
              "      <td>I've been traveling back and forth to England since I was three. I've packed way too many suitcases. Some were well packed, most were not. I tend to throw things in and dig for them later.This is a great idea for packing more neatly and effectively. So many sizes, there is one for everything including shirts, pants, socks and underwear. Easy to pull out, easy to unpack. I like the addition of the laundry bag but it is pretty small. I like using it for shoes, which I don't like having floating around in my suitcase. Or it will fit a few unmentionables and maybe a couple of shirts. But you could use it for taking clothes to the local laundromat because it is black, no one will see what's inside.These are nicely made, reinforced seams, ventilation/visibility mesh, and zipper closures.I was provided a sample for review.</td>\n",
              "      <td>5</td>\n",
              "      <td>Wonderful for Better Packing</td>\n",
              "      <td>1403740800</td>\n",
              "      <td>06 26, 2014</td>\n",
              "    </tr>\n",
              "    <tr>\n",
              "      <th>278674</th>\n",
              "      <td>A1UQBFCERIP7VJ</td>\n",
              "      <td>B00KKXCJQU</td>\n",
              "      <td>Margaret Picky</td>\n",
              "      <td>[1, 1]</td>\n",
              "      <td>These are very nice packing cubes and the 18 x 21 in. laundry and storage bag is a nice bonus.The four-inch depth and mix of sizes provided is ideal for organizing suitcases, and especially rolling carry-ons, which are typically limited to approximately 22 in. x 14 in. x 9 in.Combining two sets allows for even more versatility and choice; I would suggest getting three sets to use for a couple.They are indeed very well-made, just as claimed, with high-quality and smoothly-working zippers with easy-to-spot pulls, contrasting taped seams, and carrying handles. The nylon fabric is tough and water-resistant and the ventilating mesh on top is snag-resistant.I have been looking at packing cubes in different stores and online for several years, and these are the most thoughtfully-designed ones that I've seen, both overall and particularly for the four-inch depth.A sample was provided for evaluation and review</td>\n",
              "      <td>5</td>\n",
              "      <td>Convenient, lightweight, and durable</td>\n",
              "      <td>1402185600</td>\n",
              "      <td>06 8, 2014</td>\n",
              "    </tr>\n",
              "    <tr>\n",
              "      <th>278675</th>\n",
              "      <td>A22CW0ZHY3NJH8</td>\n",
              "      <td>B00KKXCJQU</td>\n",
              "      <td>Noname</td>\n",
              "      <td>[2, 2]</td>\n",
              "      <td>I am on vacation with my family of four and this Shacke Pak set has been wonderful.  Except for my husband, we all share the same suitcase.  Underwear and socks have always been a jumble, but not anymore.  Each kid gets his and her own Shacke Pak.  I get one, also, and there was one to spare for my loose personal supplies.  How wonderful not to have my luggage look all a clutter.The set comes with a laundry bag, which I admit is a bit small for a family, or even a single person who's packed for more than a weekend trip.  Bags on trips will always find a purpose, though.  I used it to haul my supplies from the cabin to the showers.The Shack Pak bags are getting a good workout, as we are basically running them through three separate vacations this month.  I'm still using them and my daughter will be using it next week.I like the mesh that lets us see what's inside without opening the bags.  The zippers are solid and the nylon is durable.  The bags are taking a beating and holding up well.  When done, they will nest inside each other neatly, ready for our next trip.This product was provided for review by Shacke.</td>\n",
              "      <td>5</td>\n",
              "      <td>Holds Up Well In Real World Test</td>\n",
              "      <td>1404691200</td>\n",
              "      <td>07 7, 2014</td>\n",
              "    </tr>\n",
              "    <tr>\n",
              "      <th>278676</th>\n",
              "      <td>A30VWT3R25QAVD</td>\n",
              "      <td>B00KKXCJQU</td>\n",
              "      <td>THE-DEADLY-DOG \"Living and Loving Life.\"</td>\n",
              "      <td>[0, 1]</td>\n",
              "      <td>When I signed up to receive a free set of Shacke Pak for review I thought to myself &amp;#34;What the heck am I taking this for? I don't do any travel, don't do any vacations, and don't even go out to do laundry.&amp;#34; I suppose it was the desire to posses more &amp;#34;goodies&amp;#34; that truly drove me, but man was I happy when I cracked the plastic bag and checked these bad boys out.What impressed me the most, (and I will keep this review short to save people the agony of reading my diatribe) was the size in comparison to other travel bags and their portability. When looking at the package it appears as though you may be thoroughly disappointed, but the second you crack these bags open you watch in amazement as they expand and truly do hold large quantities of goods. I received my free packing cube set on June 7th and have been using them for little things ever since. Whether it's carrying my uniform into work, bringing clothes down to the laundry room, or moving items around to better organize and keep these together these bags are tough, they are durable, and they are convenient.I am truly pleased with this Shacke product, and had it been the other way around--with me looking for some good travel/storage bags, this is where I would go.5 Agile, Mobile, and Versatile Stars out of 5!</td>\n",
              "      <td>5</td>\n",
              "      <td>Don't Travel? Still Way too Useful for 'Average Joe'</td>\n",
              "      <td>1403481600</td>\n",
              "      <td>06 23, 2014</td>\n",
              "    </tr>\n",
              "  </tbody>\n",
              "</table>\n",
              "<p>278677 rows × 9 columns</p>\n",
              "</div>"
            ],
            "text/plain": [
              "            reviewerID        asin  ... unixReviewTime   reviewTime\n",
              "0       A1KLRMWW2FWPL4  0000031887  ...     1297468800  02 12, 2011\n",
              "1       A2G5TCU2WDFZ65  0000031887  ...     1358553600  01 19, 2013\n",
              "2       A1RLQXYNCMWRWN  0000031887  ...     1357257600   01 4, 2013\n",
              "3        A8U3FAMSJVHS5  0000031887  ...     1398556800  04 27, 2014\n",
              "4       A3GEOILWLK86XM  0000031887  ...     1394841600  03 15, 2014\n",
              "...                ...         ...  ...            ...          ...\n",
              "278672  A2DG63DN704LOI  B00KKXCJQU  ...     1403568000  06 24, 2014\n",
              "278673  A1EVV74UQYVKRY  B00KKXCJQU  ...     1403740800  06 26, 2014\n",
              "278674  A1UQBFCERIP7VJ  B00KKXCJQU  ...     1402185600   06 8, 2014\n",
              "278675  A22CW0ZHY3NJH8  B00KKXCJQU  ...     1404691200   07 7, 2014\n",
              "278676  A30VWT3R25QAVD  B00KKXCJQU  ...     1403481600  06 23, 2014\n",
              "\n",
              "[278677 rows x 9 columns]"
            ]
          },
          "metadata": {
            "tags": []
          },
          "execution_count": 4
        }
      ]
    },
    {
      "cell_type": "code",
      "metadata": {
        "id": "7y4UjCl5cmxn"
      },
      "source": [
        "df = df[['reviewText', 'overall']]\n",
        "df = df.loc[(df.overall != 4)]\n",
        "df = df.loc[(df.overall != 2)]"
      ],
      "execution_count": null,
      "outputs": []
    },
    {
      "cell_type": "code",
      "metadata": {
        "colab": {
          "base_uri": "https://localhost:8080/"
        },
        "id": "M4Cwq0rxh_5Y",
        "outputId": "d0f8f08f-ed06-4666-e010-5c293ab56997"
      },
      "source": [
        "df.info()"
      ],
      "execution_count": null,
      "outputs": [
        {
          "output_type": "stream",
          "text": [
            "<class 'pandas.core.frame.DataFrame'>\n",
            "Int64Index: 204857 entries, 0 to 278676\n",
            "Data columns (total 2 columns):\n",
            " #   Column      Non-Null Count   Dtype \n",
            "---  ------      --------------   ----- \n",
            " 0   reviewText  204857 non-null  object\n",
            " 1   overall     204857 non-null  int64 \n",
            "dtypes: int64(1), object(1)\n",
            "memory usage: 4.7+ MB\n"
          ],
          "name": "stdout"
        }
      ]
    },
    {
      "cell_type": "code",
      "metadata": {
        "id": "sxxJKKcycBJm"
      },
      "source": [
        "category = pd.get_dummies(df.overall)\n",
        "df_baru = pd.concat([df, category], axis=1)\n",
        "df_baru = df_baru.drop(columns='overall')\n",
        "df_baru = df_baru.drop_duplicates(subset=['reviewText'])"
      ],
      "execution_count": null,
      "outputs": []
    },
    {
      "cell_type": "code",
      "metadata": {
        "id": "EZyU6YPLdIXe"
      },
      "source": [
        "def listToString(s):\n",
        "\n",
        "  str1 = \" \"\n",
        "  \n",
        "  return (str1.join(s))"
      ],
      "execution_count": null,
      "outputs": []
    },
    {
      "cell_type": "code",
      "metadata": {
        "id": "PsAd_9RlXMdo"
      },
      "source": [
        "df_stop = df_baru.copy()\n",
        "df_stop['reviewText'] = df_stop['reviewText'].str.lower().str.split()\n",
        "df_stop['reviewText'] = df_stop['reviewText'].apply(lambda x: [item for item in x if item not in stop])\n",
        "\n",
        "df_stop['reviewText'] = df_stop['reviewText'].apply(listToString)"
      ],
      "execution_count": null,
      "outputs": []
    },
    {
      "cell_type": "code",
      "metadata": {
        "colab": {
          "base_uri": "https://localhost:8080/",
          "height": 893
        },
        "id": "SiW8-O0gUDxV",
        "outputId": "c608bc0c-bd46-447b-b6d8-df33220fc3b7"
      },
      "source": [
        "df_stop"
      ],
      "execution_count": null,
      "outputs": [
        {
          "output_type": "execute_result",
          "data": {
            "text/html": [
              "<div>\n",
              "<style scoped>\n",
              "    .dataframe tbody tr th:only-of-type {\n",
              "        vertical-align: middle;\n",
              "    }\n",
              "\n",
              "    .dataframe tbody tr th {\n",
              "        vertical-align: top;\n",
              "    }\n",
              "\n",
              "    .dataframe thead th {\n",
              "        text-align: right;\n",
              "    }\n",
              "</style>\n",
              "<table border=\"1\" class=\"dataframe\">\n",
              "  <thead>\n",
              "    <tr style=\"text-align: right;\">\n",
              "      <th></th>\n",
              "      <th>reviewText</th>\n",
              "      <th>1</th>\n",
              "      <th>3</th>\n",
              "      <th>5</th>\n",
              "    </tr>\n",
              "  </thead>\n",
              "  <tbody>\n",
              "    <tr>\n",
              "      <th>0</th>\n",
              "      <td>great tutu really great price. look cheap all. i'm glad looked amazon found affordable tutu made poorly. a++</td>\n",
              "      <td>0</td>\n",
              "      <td>0</td>\n",
              "      <td>1</td>\n",
              "    </tr>\n",
              "    <tr>\n",
              "      <th>1</th>\n",
              "      <td>bought 4 yr old daughter dance class, wore today first time teacher thought adorable. bought go light blue long sleeve leotard happy colors matched great. price good since go $15.00 dollars.</td>\n",
              "      <td>0</td>\n",
              "      <td>0</td>\n",
              "      <td>1</td>\n",
              "    </tr>\n",
              "    <tr>\n",
              "      <th>2</th>\n",
              "      <td>say... daughters orange, black, white pink thinking buy fuccia one. good way exalt dancer outfit: great colors, comfortable, looks great, easy wear, durables little girls love it. think great buy costumer play too.</td>\n",
              "      <td>0</td>\n",
              "      <td>0</td>\n",
              "      <td>1</td>\n",
              "    </tr>\n",
              "    <tr>\n",
              "      <th>3</th>\n",
              "      <td>bought several tutus once, got high reviews. sturdy seemingly well-made. girls wearing regularly, including play, tutus stood well. fits 3-yr old &amp; 5-yr old well. clearly plenty room grow. con kids pull tutus, waste band gets twisted, adult un-tangle. difficult.</td>\n",
              "      <td>0</td>\n",
              "      <td>0</td>\n",
              "      <td>1</td>\n",
              "    </tr>\n",
              "    <tr>\n",
              "      <th>4</th>\n",
              "      <td>thank halo heaven great product little girls. great grand daughters love tutu's. buy seller. made well cute girls. thanks great product.never buy dress dreams........i buy long buy &amp;#34;dress dreams&amp;#34; never rec'd order fl. rec'd pink, purple one missing. company rip off. refuses make good purchase...... real creeps.</td>\n",
              "      <td>0</td>\n",
              "      <td>0</td>\n",
              "      <td>1</td>\n",
              "    </tr>\n",
              "    <tr>\n",
              "      <th>...</th>\n",
              "      <td>...</td>\n",
              "      <td>...</td>\n",
              "      <td>...</td>\n",
              "      <td>...</td>\n",
              "    </tr>\n",
              "    <tr>\n",
              "      <th>278672</th>\n",
              "      <td>normally go ga-ga product often, cubes awesome help myself. here's review:i'm pretty organized guy. home, keep things belong, there's place everything.i also frequent traveler.and travel, something goes wrong. neatness turns something else. starts innocently enough. pack everything perfectly. underwear here, shorts stack, tshirts left, dress shirts slacks right, toiletries top. then, get hotel change clothes, whole case shambles. gets worse. i'm week-long trip, i'm doomed day 3.now, enter shacke packing cubes! brilliant idea, yet simple one. pack packs pack! little wonders allowed compartmentalize suitcase way little zippered pockets around sides never did. put category clothes (i.e. shorts, underwear, etc.) \"cube\". then, need pair boxers, go straight source pull one out. hunting, pecking. suitcase already looks like laundry basket start trip.in conclusion, good, i've got order second set.[sample provided honest review]</td>\n",
              "      <td>0</td>\n",
              "      <td>0</td>\n",
              "      <td>1</td>\n",
              "    </tr>\n",
              "    <tr>\n",
              "      <th>278673</th>\n",
              "      <td>i've traveling back forth england since three. i've packed way many suitcases. well packed, not. tend throw things dig later.this great idea packing neatly effectively. many sizes, one everything including shirts, pants, socks underwear. easy pull out, easy unpack. like addition laundry bag pretty small. like using shoes, like floating around suitcase. fit unmentionables maybe couple shirts. could use taking clothes local laundromat black, one see what's inside.these nicely made, reinforced seams, ventilation/visibility mesh, zipper closures.i provided sample review.</td>\n",
              "      <td>0</td>\n",
              "      <td>0</td>\n",
              "      <td>1</td>\n",
              "    </tr>\n",
              "    <tr>\n",
              "      <th>278674</th>\n",
              "      <td>nice packing cubes 18 x 21 in. laundry storage bag nice bonus.the four-inch depth mix sizes provided ideal organizing suitcases, especially rolling carry-ons, typically limited approximately 22 in. x 14 in. x 9 in.combining two sets allows even versatility choice; would suggest getting three sets use couple.they indeed well-made, claimed, high-quality smoothly-working zippers easy-to-spot pulls, contrasting taped seams, carrying handles. nylon fabric tough water-resistant ventilating mesh top snag-resistant.i looking packing cubes different stores online several years, thoughtfully-designed ones i've seen, overall particularly four-inch depth.a sample provided evaluation review</td>\n",
              "      <td>0</td>\n",
              "      <td>0</td>\n",
              "      <td>1</td>\n",
              "    </tr>\n",
              "    <tr>\n",
              "      <th>278675</th>\n",
              "      <td>vacation family four shacke pak set wonderful. except husband, share suitcase. underwear socks always jumble, anymore. kid gets shacke pak. get one, also, one spare loose personal supplies. wonderful luggage look clutter.the set comes laundry bag, admit bit small family, even single person who's packed weekend trip. bags trips always find purpose, though. used haul supplies cabin showers.the shack pak bags getting good workout, basically running three separate vacations month. i'm still using daughter using next week.i like mesh lets us see what's inside without opening bags. zippers solid nylon durable. bags taking beating holding well. done, nest inside neatly, ready next trip.this product provided review shacke.</td>\n",
              "      <td>0</td>\n",
              "      <td>0</td>\n",
              "      <td>1</td>\n",
              "    </tr>\n",
              "    <tr>\n",
              "      <th>278676</th>\n",
              "      <td>signed receive free set shacke pak review thought &amp;#34;what heck taking for? travel, vacations, even go laundry.&amp;#34; suppose desire posses &amp;#34;goodies&amp;#34; truly drove me, man happy cracked plastic bag checked bad boys out.what impressed most, (and keep review short save people agony reading diatribe) size comparison travel bags portability. looking package appears though may thoroughly disappointed, second crack bags open watch amazement expand truly hold large quantities goods. received free packing cube set june 7th using little things ever since. whether carrying uniform work, bringing clothes laundry room, moving items around better organize keep together bags tough, durable, convenient.i truly pleased shacke product, way around--with looking good travel/storage bags, would go.5 agile, mobile, versatile stars 5!</td>\n",
              "      <td>0</td>\n",
              "      <td>0</td>\n",
              "      <td>1</td>\n",
              "    </tr>\n",
              "  </tbody>\n",
              "</table>\n",
              "<p>204753 rows × 4 columns</p>\n",
              "</div>"
            ],
            "text/plain": [
              "                                                                                                                                                                                                                                                                                                                                                                                                                                                                                                                                                                                                                                                                                                                                                                                                                                                                                                                                                                   reviewText  ...  5\n",
              "0                                                                                                                                                                                                                                                                                                                                                                                                                                                                                                                                                                                                                                                                                                                                                                                                                                                                great tutu really great price. look cheap all. i'm glad looked amazon found affordable tutu made poorly. a++  ...  1\n",
              "1                                                                                                                                                                                                                                                                                                                                                                                                                                                                                                                                                                                                                                                                                                                                                                              bought 4 yr old daughter dance class, wore today first time teacher thought adorable. bought go light blue long sleeve leotard happy colors matched great. price good since go $15.00 dollars.  ...  1\n",
              "2                                                                                                                                                                                                                                                                                                                                                                                                                                                                                                                                                                                                                                                                                                                                                      say... daughters orange, black, white pink thinking buy fuccia one. good way exalt dancer outfit: great colors, comfortable, looks great, easy wear, durables little girls love it. think great buy costumer play too.  ...  1\n",
              "3                                                                                                                                                                                                                                                                                                                                                                                                                                                                                                                                                                                                                                                                                                      bought several tutus once, got high reviews. sturdy seemingly well-made. girls wearing regularly, including play, tutus stood well. fits 3-yr old & 5-yr old well. clearly plenty room grow. con kids pull tutus, waste band gets twisted, adult un-tangle. difficult.  ...  1\n",
              "4                                                                                                                                                                                                                                                                                                                                                                                                                                                                                                                                                                                                                                            thank halo heaven great product little girls. great grand daughters love tutu's. buy seller. made well cute girls. thanks great product.never buy dress dreams........i buy long buy &#34;dress dreams&#34; never rec'd order fl. rec'd pink, purple one missing. company rip off. refuses make good purchase...... real creeps.  ...  1\n",
              "...                                                                                                                                                                                                                                                                                                                                                                                                                                                                                                                                                                                                                                                                                                                                                                                                                                                                                                                                                                       ...  ... ..\n",
              "278672  normally go ga-ga product often, cubes awesome help myself. here's review:i'm pretty organized guy. home, keep things belong, there's place everything.i also frequent traveler.and travel, something goes wrong. neatness turns something else. starts innocently enough. pack everything perfectly. underwear here, shorts stack, tshirts left, dress shirts slacks right, toiletries top. then, get hotel change clothes, whole case shambles. gets worse. i'm week-long trip, i'm doomed day 3.now, enter shacke packing cubes! brilliant idea, yet simple one. pack packs pack! little wonders allowed compartmentalize suitcase way little zippered pockets around sides never did. put category clothes (i.e. shorts, underwear, etc.) \"cube\". then, need pair boxers, go straight source pull one out. hunting, pecking. suitcase already looks like laundry basket start trip.in conclusion, good, i've got order second set.[sample provided honest review]  ...  1\n",
              "278673                                                                                                                                                                                                                                                                                                                                                                          i've traveling back forth england since three. i've packed way many suitcases. well packed, not. tend throw things dig later.this great idea packing neatly effectively. many sizes, one everything including shirts, pants, socks underwear. easy pull out, easy unpack. like addition laundry bag pretty small. like using shoes, like floating around suitcase. fit unmentionables maybe couple shirts. could use taking clothes local laundromat black, one see what's inside.these nicely made, reinforced seams, ventilation/visibility mesh, zipper closures.i provided sample review.  ...  1\n",
              "278674                                                                                                                                                                                                                                                         nice packing cubes 18 x 21 in. laundry storage bag nice bonus.the four-inch depth mix sizes provided ideal organizing suitcases, especially rolling carry-ons, typically limited approximately 22 in. x 14 in. x 9 in.combining two sets allows even versatility choice; would suggest getting three sets use couple.they indeed well-made, claimed, high-quality smoothly-working zippers easy-to-spot pulls, contrasting taped seams, carrying handles. nylon fabric tough water-resistant ventilating mesh top snag-resistant.i looking packing cubes different stores online several years, thoughtfully-designed ones i've seen, overall particularly four-inch depth.a sample provided evaluation review  ...  1\n",
              "278675                                                                                                                                                                                                                   vacation family four shacke pak set wonderful. except husband, share suitcase. underwear socks always jumble, anymore. kid gets shacke pak. get one, also, one spare loose personal supplies. wonderful luggage look clutter.the set comes laundry bag, admit bit small family, even single person who's packed weekend trip. bags trips always find purpose, though. used haul supplies cabin showers.the shack pak bags getting good workout, basically running three separate vacations month. i'm still using daughter using next week.i like mesh lets us see what's inside without opening bags. zippers solid nylon durable. bags taking beating holding well. done, nest inside neatly, ready next trip.this product provided review shacke.  ...  1\n",
              "278676                                                                                                         signed receive free set shacke pak review thought &#34;what heck taking for? travel, vacations, even go laundry.&#34; suppose desire posses &#34;goodies&#34; truly drove me, man happy cracked plastic bag checked bad boys out.what impressed most, (and keep review short save people agony reading diatribe) size comparison travel bags portability. looking package appears though may thoroughly disappointed, second crack bags open watch amazement expand truly hold large quantities goods. received free packing cube set june 7th using little things ever since. whether carrying uniform work, bringing clothes laundry room, moving items around better organize keep together bags tough, durable, convenient.i truly pleased shacke product, way around--with looking good travel/storage bags, would go.5 agile, mobile, versatile stars 5!  ...  1\n",
              "\n",
              "[204753 rows x 4 columns]"
            ]
          },
          "metadata": {
            "tags": []
          },
          "execution_count": 11
        }
      ]
    },
    {
      "cell_type": "code",
      "metadata": {
        "id": "X_JZkZQtcrLD"
      },
      "source": [
        "review = df_stop['reviewText'].values\n",
        "sentiment = df_stop[[1,3,5]].values"
      ],
      "execution_count": null,
      "outputs": []
    },
    {
      "cell_type": "code",
      "metadata": {
        "id": "1YZ03v_mceTT"
      },
      "source": [
        "X_train, X_val, y_train, y_val = train_test_split(review, sentiment, test_size=0.2, stratify = sentiment, random_state=101)"
      ],
      "execution_count": null,
      "outputs": []
    },
    {
      "cell_type": "code",
      "metadata": {
        "id": "-SGk1TwEdARc"
      },
      "source": [
        "tokenizer = Tokenizer(num_words=2500, oov_token='x')\n",
        "tokenizer.fit_on_texts(X_train)\n",
        " \n",
        "seq_train = tokenizer.texts_to_sequences(X_train)\n",
        "seq_val = tokenizer.texts_to_sequences(X_val)\n",
        " \n",
        "train_pad = pad_sequences(seq_train) \n",
        "val_pad = pad_sequences(seq_val)"
      ],
      "execution_count": null,
      "outputs": []
    },
    {
      "cell_type": "code",
      "metadata": {
        "id": "NPUnoWNDeThH"
      },
      "source": [
        "model = tf.keras.Sequential([tf.keras.layers.Embedding(input_dim=2500, output_dim=30),\n",
        "                             tf.keras.layers.LSTM(64),\n",
        "                             tf.keras.layers.Dense(128, activation='relu'),\n",
        "                             tf.keras.layers.Dense(64, activation='relu'),\n",
        "                             tf.keras.layers.Dense(32, activation='relu'),\n",
        "                             tf.keras.layers.Dense(3, activation='softmax')])\n",
        "\n",
        "model.compile(loss='categorical_crossentropy', optimizer='adam', metrics=['accuracy'])"
      ],
      "execution_count": null,
      "outputs": []
    },
    {
      "cell_type": "code",
      "metadata": {
        "colab": {
          "base_uri": "https://localhost:8080/"
        },
        "id": "X6Mu7dFletgB",
        "outputId": "51f1861e-798f-4cb9-8cb1-f312a5c70822"
      },
      "source": [
        "num_epochs = 300\n",
        "es = EarlyStopping(monitor='val_loss', mode='min', verbose=1, patience=5)\n",
        "\n",
        "history = model.fit(train_pad, y_train, \n",
        "                    validation_data=(val_pad, y_val),\n",
        "                    epochs=num_epochs,\n",
        "                    callbacks = [es],\n",
        "                    batch_size = 512)"
      ],
      "execution_count": null,
      "outputs": [
        {
          "output_type": "stream",
          "text": [
            "Epoch 1/300\n",
            "320/320 [==============================] - 76s 234ms/step - loss: 0.4403 - accuracy: 0.8339 - val_loss: 0.3589 - val_accuracy: 0.8570\n",
            "Epoch 2/300\n",
            "320/320 [==============================] - 74s 232ms/step - loss: 0.3351 - accuracy: 0.8671 - val_loss: 0.3230 - val_accuracy: 0.8742\n",
            "Epoch 3/300\n",
            "320/320 [==============================] - 74s 230ms/step - loss: 0.3103 - accuracy: 0.8786 - val_loss: 0.3254 - val_accuracy: 0.8745\n",
            "Epoch 4/300\n",
            "320/320 [==============================] - 74s 231ms/step - loss: 0.3014 - accuracy: 0.8817 - val_loss: 0.3187 - val_accuracy: 0.8761\n",
            "Epoch 5/300\n",
            "320/320 [==============================] - 75s 233ms/step - loss: 0.2944 - accuracy: 0.8850 - val_loss: 0.3212 - val_accuracy: 0.8755\n",
            "Epoch 6/300\n",
            "320/320 [==============================] - 75s 234ms/step - loss: 0.2854 - accuracy: 0.8885 - val_loss: 0.3160 - val_accuracy: 0.8768\n",
            "Epoch 7/300\n",
            "320/320 [==============================] - 75s 234ms/step - loss: 0.2788 - accuracy: 0.8916 - val_loss: 0.3174 - val_accuracy: 0.8762\n",
            "Epoch 8/300\n",
            "320/320 [==============================] - 75s 233ms/step - loss: 0.2727 - accuracy: 0.8935 - val_loss: 0.3251 - val_accuracy: 0.8716\n",
            "Epoch 9/300\n",
            "320/320 [==============================] - 75s 234ms/step - loss: 0.2673 - accuracy: 0.8964 - val_loss: 0.3258 - val_accuracy: 0.8752\n",
            "Epoch 10/300\n",
            "320/320 [==============================] - 75s 233ms/step - loss: 0.2622 - accuracy: 0.8988 - val_loss: 0.3283 - val_accuracy: 0.8730\n",
            "Epoch 11/300\n",
            "320/320 [==============================] - 75s 234ms/step - loss: 0.2574 - accuracy: 0.9005 - val_loss: 0.3290 - val_accuracy: 0.8763\n",
            "Epoch 00011: early stopping\n"
          ],
          "name": "stdout"
        }
      ]
    },
    {
      "cell_type": "code",
      "metadata": {
        "id": "Gs4qxtDGewIl",
        "colab": {
          "base_uri": "https://localhost:8080/",
          "height": 282
        },
        "outputId": "1287d6b9-56ae-413b-ddd7-886ad3f62656"
      },
      "source": [
        "model_loss = pd.DataFrame(model.history.history)\n",
        "model_loss.plot()"
      ],
      "execution_count": null,
      "outputs": [
        {
          "output_type": "execute_result",
          "data": {
            "text/plain": [
              "<matplotlib.axes._subplots.AxesSubplot at 0x7f2fb1c54e10>"
            ]
          },
          "metadata": {
            "tags": []
          },
          "execution_count": 20
        },
        {
          "output_type": "display_data",
          "data": {
            "image/png": "[encoded data removed]",
            "text/plain": [
              "<Figure size 432x288 with 1 Axes>"
            ]
          },
          "metadata": {
            "tags": [],
            "needs_background": "light"
          }
        }
      ]
    },
    {
      "cell_type": "code",
      "metadata": {
        "id": "gU2jQgX2ipjv"
      },
      "source": [
        ""
      ],
      "execution_count": null,
      "outputs": []
    }
  ]
}